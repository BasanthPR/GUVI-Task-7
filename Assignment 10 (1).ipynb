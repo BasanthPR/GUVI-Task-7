{
 "cells": [
  {
   "cell_type": "code",
   "execution_count": 1,
   "metadata": {},
   "outputs": [],
   "source": [
    "import pandas as pd\n",
    "import numpy as np\n",
    "import seaborn as sns\n",
    "import matplotlib.pyplot as plt\n",
    "from sklearn.neighbors import KNeighborsClassifier \n",
    "from sklearn.metrics import accuracy_score \n",
    "from sklearn.metrics import classification_report"
   ]
  },
  {
   "cell_type": "code",
   "execution_count": 2,
   "metadata": {},
   "outputs": [],
   "source": [
    "train = pd.read_csv(\"trainKNN.txt\" , header=None,\n",
    "                 names=[\"Id number\", \"RI\", \"Na\", \"Mg\", \"Al\", \"Si\",\"K\",\"Ca\",\"Ba\",'Fe','Type of glass'],index_col='Id number')\n",
    "\n",
    "test = pd.read_csv(\"testKNN.txt\" , header=None,\n",
    "                 names=[\"Id number\", \"RI\", \"Na\", \"Mg\", \"Al\", \"Si\",\"K\",\"Ca\",\"Ba\",'Fe','Type of glass'],index_col='Id number')"
   ]
  },
  {
   "cell_type": "code",
   "execution_count": 4,
   "metadata": {},
   "outputs": [
    {
     "data": {
      "text/html": [
       "<div>\n",
       "<style scoped>\n",
       "    .dataframe tbody tr th:only-of-type {\n",
       "        vertical-align: middle;\n",
       "    }\n",
       "\n",
       "    .dataframe tbody tr th {\n",
       "        vertical-align: top;\n",
       "    }\n",
       "\n",
       "    .dataframe thead th {\n",
       "        text-align: right;\n",
       "    }\n",
       "</style>\n",
       "<table border=\"1\" class=\"dataframe\">\n",
       "  <thead>\n",
       "    <tr style=\"text-align: right;\">\n",
       "      <th></th>\n",
       "      <th>RI</th>\n",
       "      <th>Na</th>\n",
       "      <th>Mg</th>\n",
       "      <th>Al</th>\n",
       "      <th>Si</th>\n",
       "      <th>K</th>\n",
       "      <th>Ca</th>\n",
       "      <th>Ba</th>\n",
       "      <th>Fe</th>\n",
       "      <th>Type of glass</th>\n",
       "    </tr>\n",
       "    <tr>\n",
       "      <th>Id number</th>\n",
       "      <th></th>\n",
       "      <th></th>\n",
       "      <th></th>\n",
       "      <th></th>\n",
       "      <th></th>\n",
       "      <th></th>\n",
       "      <th></th>\n",
       "      <th></th>\n",
       "      <th></th>\n",
       "      <th></th>\n",
       "    </tr>\n",
       "  </thead>\n",
       "  <tbody>\n",
       "    <tr>\n",
       "      <th>1</th>\n",
       "      <td>1.52101</td>\n",
       "      <td>13.64</td>\n",
       "      <td>4.49</td>\n",
       "      <td>1.10</td>\n",
       "      <td>71.78</td>\n",
       "      <td>0.06</td>\n",
       "      <td>8.75</td>\n",
       "      <td>0.00</td>\n",
       "      <td>0.0</td>\n",
       "      <td>1</td>\n",
       "    </tr>\n",
       "    <tr>\n",
       "      <th>2</th>\n",
       "      <td>1.51761</td>\n",
       "      <td>13.89</td>\n",
       "      <td>3.60</td>\n",
       "      <td>1.36</td>\n",
       "      <td>72.73</td>\n",
       "      <td>0.48</td>\n",
       "      <td>7.83</td>\n",
       "      <td>0.00</td>\n",
       "      <td>0.0</td>\n",
       "      <td>1</td>\n",
       "    </tr>\n",
       "    <tr>\n",
       "      <th>3</th>\n",
       "      <td>1.51618</td>\n",
       "      <td>13.53</td>\n",
       "      <td>3.55</td>\n",
       "      <td>1.54</td>\n",
       "      <td>72.99</td>\n",
       "      <td>0.39</td>\n",
       "      <td>7.78</td>\n",
       "      <td>0.00</td>\n",
       "      <td>0.0</td>\n",
       "      <td>1</td>\n",
       "    </tr>\n",
       "    <tr>\n",
       "      <th>4</th>\n",
       "      <td>1.51766</td>\n",
       "      <td>13.21</td>\n",
       "      <td>3.69</td>\n",
       "      <td>1.29</td>\n",
       "      <td>72.61</td>\n",
       "      <td>0.57</td>\n",
       "      <td>8.22</td>\n",
       "      <td>0.00</td>\n",
       "      <td>0.0</td>\n",
       "      <td>1</td>\n",
       "    </tr>\n",
       "    <tr>\n",
       "      <th>5</th>\n",
       "      <td>1.51742</td>\n",
       "      <td>13.27</td>\n",
       "      <td>3.62</td>\n",
       "      <td>1.24</td>\n",
       "      <td>73.08</td>\n",
       "      <td>0.55</td>\n",
       "      <td>8.07</td>\n",
       "      <td>0.00</td>\n",
       "      <td>0.0</td>\n",
       "      <td>1</td>\n",
       "    </tr>\n",
       "    <tr>\n",
       "      <th>...</th>\n",
       "      <td>...</td>\n",
       "      <td>...</td>\n",
       "      <td>...</td>\n",
       "      <td>...</td>\n",
       "      <td>...</td>\n",
       "      <td>...</td>\n",
       "      <td>...</td>\n",
       "      <td>...</td>\n",
       "      <td>...</td>\n",
       "      <td>...</td>\n",
       "    </tr>\n",
       "    <tr>\n",
       "      <th>207</th>\n",
       "      <td>1.51645</td>\n",
       "      <td>14.94</td>\n",
       "      <td>0.00</td>\n",
       "      <td>1.87</td>\n",
       "      <td>73.11</td>\n",
       "      <td>0.00</td>\n",
       "      <td>8.67</td>\n",
       "      <td>1.38</td>\n",
       "      <td>0.0</td>\n",
       "      <td>7</td>\n",
       "    </tr>\n",
       "    <tr>\n",
       "      <th>208</th>\n",
       "      <td>1.51831</td>\n",
       "      <td>14.39</td>\n",
       "      <td>0.00</td>\n",
       "      <td>1.82</td>\n",
       "      <td>72.86</td>\n",
       "      <td>1.41</td>\n",
       "      <td>6.47</td>\n",
       "      <td>2.88</td>\n",
       "      <td>0.0</td>\n",
       "      <td>7</td>\n",
       "    </tr>\n",
       "    <tr>\n",
       "      <th>209</th>\n",
       "      <td>1.51640</td>\n",
       "      <td>14.37</td>\n",
       "      <td>0.00</td>\n",
       "      <td>2.74</td>\n",
       "      <td>72.85</td>\n",
       "      <td>0.00</td>\n",
       "      <td>9.45</td>\n",
       "      <td>0.54</td>\n",
       "      <td>0.0</td>\n",
       "      <td>7</td>\n",
       "    </tr>\n",
       "    <tr>\n",
       "      <th>210</th>\n",
       "      <td>1.51623</td>\n",
       "      <td>14.14</td>\n",
       "      <td>0.00</td>\n",
       "      <td>2.88</td>\n",
       "      <td>72.61</td>\n",
       "      <td>0.08</td>\n",
       "      <td>9.18</td>\n",
       "      <td>1.06</td>\n",
       "      <td>0.0</td>\n",
       "      <td>7</td>\n",
       "    </tr>\n",
       "    <tr>\n",
       "      <th>211</th>\n",
       "      <td>1.51685</td>\n",
       "      <td>14.92</td>\n",
       "      <td>0.00</td>\n",
       "      <td>1.99</td>\n",
       "      <td>73.06</td>\n",
       "      <td>0.00</td>\n",
       "      <td>8.40</td>\n",
       "      <td>1.59</td>\n",
       "      <td>0.0</td>\n",
       "      <td>7</td>\n",
       "    </tr>\n",
       "  </tbody>\n",
       "</table>\n",
       "<p>196 rows × 10 columns</p>\n",
       "</div>"
      ],
      "text/plain": [
       "                RI     Na    Mg    Al     Si     K    Ca    Ba   Fe  \\\n",
       "Id number                                                             \n",
       "1          1.52101  13.64  4.49  1.10  71.78  0.06  8.75  0.00  0.0   \n",
       "2          1.51761  13.89  3.60  1.36  72.73  0.48  7.83  0.00  0.0   \n",
       "3          1.51618  13.53  3.55  1.54  72.99  0.39  7.78  0.00  0.0   \n",
       "4          1.51766  13.21  3.69  1.29  72.61  0.57  8.22  0.00  0.0   \n",
       "5          1.51742  13.27  3.62  1.24  73.08  0.55  8.07  0.00  0.0   \n",
       "...            ...    ...   ...   ...    ...   ...   ...   ...  ...   \n",
       "207        1.51645  14.94  0.00  1.87  73.11  0.00  8.67  1.38  0.0   \n",
       "208        1.51831  14.39  0.00  1.82  72.86  1.41  6.47  2.88  0.0   \n",
       "209        1.51640  14.37  0.00  2.74  72.85  0.00  9.45  0.54  0.0   \n",
       "210        1.51623  14.14  0.00  2.88  72.61  0.08  9.18  1.06  0.0   \n",
       "211        1.51685  14.92  0.00  1.99  73.06  0.00  8.40  1.59  0.0   \n",
       "\n",
       "           Type of glass  \n",
       "Id number                 \n",
       "1                      1  \n",
       "2                      1  \n",
       "3                      1  \n",
       "4                      1  \n",
       "5                      1  \n",
       "...                  ...  \n",
       "207                    7  \n",
       "208                    7  \n",
       "209                    7  \n",
       "210                    7  \n",
       "211                    7  \n",
       "\n",
       "[196 rows x 10 columns]"
      ]
     },
     "execution_count": 4,
     "metadata": {},
     "output_type": "execute_result"
    }
   ],
   "source": [
    "train"
   ]
  },
  {
   "cell_type": "code",
   "execution_count": 5,
   "metadata": {},
   "outputs": [
    {
     "data": {
      "text/html": [
       "<div>\n",
       "<style scoped>\n",
       "    .dataframe tbody tr th:only-of-type {\n",
       "        vertical-align: middle;\n",
       "    }\n",
       "\n",
       "    .dataframe tbody tr th {\n",
       "        vertical-align: top;\n",
       "    }\n",
       "\n",
       "    .dataframe thead th {\n",
       "        text-align: right;\n",
       "    }\n",
       "</style>\n",
       "<table border=\"1\" class=\"dataframe\">\n",
       "  <thead>\n",
       "    <tr style=\"text-align: right;\">\n",
       "      <th></th>\n",
       "      <th>RI</th>\n",
       "      <th>Na</th>\n",
       "      <th>Mg</th>\n",
       "      <th>Al</th>\n",
       "      <th>Si</th>\n",
       "      <th>K</th>\n",
       "      <th>Ca</th>\n",
       "      <th>Ba</th>\n",
       "      <th>Fe</th>\n",
       "      <th>Type of glass</th>\n",
       "    </tr>\n",
       "    <tr>\n",
       "      <th>Id number</th>\n",
       "      <th></th>\n",
       "      <th></th>\n",
       "      <th></th>\n",
       "      <th></th>\n",
       "      <th></th>\n",
       "      <th></th>\n",
       "      <th></th>\n",
       "      <th></th>\n",
       "      <th></th>\n",
       "      <th></th>\n",
       "    </tr>\n",
       "  </thead>\n",
       "  <tbody>\n",
       "    <tr>\n",
       "      <th>68</th>\n",
       "      <td>1.52152</td>\n",
       "      <td>13.05</td>\n",
       "      <td>3.65</td>\n",
       "      <td>0.87</td>\n",
       "      <td>72.32</td>\n",
       "      <td>0.19</td>\n",
       "      <td>9.85</td>\n",
       "      <td>0.00</td>\n",
       "      <td>0.17</td>\n",
       "      <td>1</td>\n",
       "    </tr>\n",
       "    <tr>\n",
       "      <th>69</th>\n",
       "      <td>1.52152</td>\n",
       "      <td>13.12</td>\n",
       "      <td>3.58</td>\n",
       "      <td>0.90</td>\n",
       "      <td>72.20</td>\n",
       "      <td>0.23</td>\n",
       "      <td>9.82</td>\n",
       "      <td>0.00</td>\n",
       "      <td>0.16</td>\n",
       "      <td>1</td>\n",
       "    </tr>\n",
       "    <tr>\n",
       "      <th>70</th>\n",
       "      <td>1.52300</td>\n",
       "      <td>13.31</td>\n",
       "      <td>3.58</td>\n",
       "      <td>0.82</td>\n",
       "      <td>71.99</td>\n",
       "      <td>0.12</td>\n",
       "      <td>10.17</td>\n",
       "      <td>0.00</td>\n",
       "      <td>0.03</td>\n",
       "      <td>1</td>\n",
       "    </tr>\n",
       "    <tr>\n",
       "      <th>144</th>\n",
       "      <td>1.51709</td>\n",
       "      <td>13.00</td>\n",
       "      <td>3.47</td>\n",
       "      <td>1.79</td>\n",
       "      <td>72.72</td>\n",
       "      <td>0.66</td>\n",
       "      <td>8.18</td>\n",
       "      <td>0.00</td>\n",
       "      <td>0.00</td>\n",
       "      <td>2</td>\n",
       "    </tr>\n",
       "    <tr>\n",
       "      <th>145</th>\n",
       "      <td>1.51660</td>\n",
       "      <td>12.99</td>\n",
       "      <td>3.18</td>\n",
       "      <td>1.23</td>\n",
       "      <td>72.97</td>\n",
       "      <td>0.58</td>\n",
       "      <td>8.81</td>\n",
       "      <td>0.00</td>\n",
       "      <td>0.24</td>\n",
       "      <td>2</td>\n",
       "    </tr>\n",
       "    <tr>\n",
       "      <th>146</th>\n",
       "      <td>1.51839</td>\n",
       "      <td>12.85</td>\n",
       "      <td>3.67</td>\n",
       "      <td>1.24</td>\n",
       "      <td>72.57</td>\n",
       "      <td>0.62</td>\n",
       "      <td>8.68</td>\n",
       "      <td>0.00</td>\n",
       "      <td>0.35</td>\n",
       "      <td>2</td>\n",
       "    </tr>\n",
       "    <tr>\n",
       "      <th>161</th>\n",
       "      <td>1.51832</td>\n",
       "      <td>13.33</td>\n",
       "      <td>3.34</td>\n",
       "      <td>1.54</td>\n",
       "      <td>72.14</td>\n",
       "      <td>0.56</td>\n",
       "      <td>8.99</td>\n",
       "      <td>0.00</td>\n",
       "      <td>0.00</td>\n",
       "      <td>3</td>\n",
       "    </tr>\n",
       "    <tr>\n",
       "      <th>162</th>\n",
       "      <td>1.51934</td>\n",
       "      <td>13.64</td>\n",
       "      <td>3.54</td>\n",
       "      <td>0.75</td>\n",
       "      <td>72.65</td>\n",
       "      <td>0.16</td>\n",
       "      <td>8.89</td>\n",
       "      <td>0.15</td>\n",
       "      <td>0.24</td>\n",
       "      <td>3</td>\n",
       "    </tr>\n",
       "    <tr>\n",
       "      <th>163</th>\n",
       "      <td>1.52211</td>\n",
       "      <td>14.19</td>\n",
       "      <td>3.78</td>\n",
       "      <td>0.91</td>\n",
       "      <td>71.36</td>\n",
       "      <td>0.23</td>\n",
       "      <td>9.14</td>\n",
       "      <td>0.00</td>\n",
       "      <td>0.37</td>\n",
       "      <td>3</td>\n",
       "    </tr>\n",
       "    <tr>\n",
       "      <th>174</th>\n",
       "      <td>1.52043</td>\n",
       "      <td>13.38</td>\n",
       "      <td>0.00</td>\n",
       "      <td>1.40</td>\n",
       "      <td>72.25</td>\n",
       "      <td>0.33</td>\n",
       "      <td>12.50</td>\n",
       "      <td>0.00</td>\n",
       "      <td>0.00</td>\n",
       "      <td>5</td>\n",
       "    </tr>\n",
       "    <tr>\n",
       "      <th>175</th>\n",
       "      <td>1.52058</td>\n",
       "      <td>12.85</td>\n",
       "      <td>1.61</td>\n",
       "      <td>2.17</td>\n",
       "      <td>72.18</td>\n",
       "      <td>0.76</td>\n",
       "      <td>9.70</td>\n",
       "      <td>0.24</td>\n",
       "      <td>0.51</td>\n",
       "      <td>5</td>\n",
       "    </tr>\n",
       "    <tr>\n",
       "      <th>176</th>\n",
       "      <td>1.52119</td>\n",
       "      <td>12.97</td>\n",
       "      <td>0.33</td>\n",
       "      <td>1.51</td>\n",
       "      <td>73.39</td>\n",
       "      <td>0.13</td>\n",
       "      <td>11.27</td>\n",
       "      <td>0.00</td>\n",
       "      <td>0.28</td>\n",
       "      <td>5</td>\n",
       "    </tr>\n",
       "    <tr>\n",
       "      <th>183</th>\n",
       "      <td>1.51916</td>\n",
       "      <td>14.15</td>\n",
       "      <td>0.00</td>\n",
       "      <td>2.09</td>\n",
       "      <td>72.74</td>\n",
       "      <td>0.00</td>\n",
       "      <td>10.88</td>\n",
       "      <td>0.00</td>\n",
       "      <td>0.00</td>\n",
       "      <td>6</td>\n",
       "    </tr>\n",
       "    <tr>\n",
       "      <th>184</th>\n",
       "      <td>1.51969</td>\n",
       "      <td>14.56</td>\n",
       "      <td>0.00</td>\n",
       "      <td>0.56</td>\n",
       "      <td>73.48</td>\n",
       "      <td>0.00</td>\n",
       "      <td>11.22</td>\n",
       "      <td>0.00</td>\n",
       "      <td>0.00</td>\n",
       "      <td>6</td>\n",
       "    </tr>\n",
       "    <tr>\n",
       "      <th>185</th>\n",
       "      <td>1.51115</td>\n",
       "      <td>17.38</td>\n",
       "      <td>0.00</td>\n",
       "      <td>0.34</td>\n",
       "      <td>75.41</td>\n",
       "      <td>0.00</td>\n",
       "      <td>6.65</td>\n",
       "      <td>0.00</td>\n",
       "      <td>0.00</td>\n",
       "      <td>6</td>\n",
       "    </tr>\n",
       "    <tr>\n",
       "      <th>212</th>\n",
       "      <td>1.52065</td>\n",
       "      <td>14.36</td>\n",
       "      <td>0.00</td>\n",
       "      <td>2.02</td>\n",
       "      <td>73.42</td>\n",
       "      <td>0.00</td>\n",
       "      <td>8.44</td>\n",
       "      <td>1.64</td>\n",
       "      <td>0.00</td>\n",
       "      <td>7</td>\n",
       "    </tr>\n",
       "    <tr>\n",
       "      <th>213</th>\n",
       "      <td>1.51651</td>\n",
       "      <td>14.38</td>\n",
       "      <td>0.00</td>\n",
       "      <td>1.94</td>\n",
       "      <td>73.61</td>\n",
       "      <td>0.00</td>\n",
       "      <td>8.48</td>\n",
       "      <td>1.57</td>\n",
       "      <td>0.00</td>\n",
       "      <td>7</td>\n",
       "    </tr>\n",
       "    <tr>\n",
       "      <th>214</th>\n",
       "      <td>1.51711</td>\n",
       "      <td>14.23</td>\n",
       "      <td>0.00</td>\n",
       "      <td>2.08</td>\n",
       "      <td>73.36</td>\n",
       "      <td>0.00</td>\n",
       "      <td>8.62</td>\n",
       "      <td>1.67</td>\n",
       "      <td>0.00</td>\n",
       "      <td>7</td>\n",
       "    </tr>\n",
       "  </tbody>\n",
       "</table>\n",
       "</div>"
      ],
      "text/plain": [
       "                RI     Na    Mg    Al     Si     K     Ca    Ba    Fe  \\\n",
       "Id number                                                               \n",
       "68         1.52152  13.05  3.65  0.87  72.32  0.19   9.85  0.00  0.17   \n",
       "69         1.52152  13.12  3.58  0.90  72.20  0.23   9.82  0.00  0.16   \n",
       "70         1.52300  13.31  3.58  0.82  71.99  0.12  10.17  0.00  0.03   \n",
       "144        1.51709  13.00  3.47  1.79  72.72  0.66   8.18  0.00  0.00   \n",
       "145        1.51660  12.99  3.18  1.23  72.97  0.58   8.81  0.00  0.24   \n",
       "146        1.51839  12.85  3.67  1.24  72.57  0.62   8.68  0.00  0.35   \n",
       "161        1.51832  13.33  3.34  1.54  72.14  0.56   8.99  0.00  0.00   \n",
       "162        1.51934  13.64  3.54  0.75  72.65  0.16   8.89  0.15  0.24   \n",
       "163        1.52211  14.19  3.78  0.91  71.36  0.23   9.14  0.00  0.37   \n",
       "174        1.52043  13.38  0.00  1.40  72.25  0.33  12.50  0.00  0.00   \n",
       "175        1.52058  12.85  1.61  2.17  72.18  0.76   9.70  0.24  0.51   \n",
       "176        1.52119  12.97  0.33  1.51  73.39  0.13  11.27  0.00  0.28   \n",
       "183        1.51916  14.15  0.00  2.09  72.74  0.00  10.88  0.00  0.00   \n",
       "184        1.51969  14.56  0.00  0.56  73.48  0.00  11.22  0.00  0.00   \n",
       "185        1.51115  17.38  0.00  0.34  75.41  0.00   6.65  0.00  0.00   \n",
       "212        1.52065  14.36  0.00  2.02  73.42  0.00   8.44  1.64  0.00   \n",
       "213        1.51651  14.38  0.00  1.94  73.61  0.00   8.48  1.57  0.00   \n",
       "214        1.51711  14.23  0.00  2.08  73.36  0.00   8.62  1.67  0.00   \n",
       "\n",
       "           Type of glass  \n",
       "Id number                 \n",
       "68                     1  \n",
       "69                     1  \n",
       "70                     1  \n",
       "144                    2  \n",
       "145                    2  \n",
       "146                    2  \n",
       "161                    3  \n",
       "162                    3  \n",
       "163                    3  \n",
       "174                    5  \n",
       "175                    5  \n",
       "176                    5  \n",
       "183                    6  \n",
       "184                    6  \n",
       "185                    6  \n",
       "212                    7  \n",
       "213                    7  \n",
       "214                    7  "
      ]
     },
     "execution_count": 5,
     "metadata": {},
     "output_type": "execute_result"
    }
   ],
   "source": [
    "test"
   ]
  },
  {
   "cell_type": "code",
   "execution_count": 6,
   "metadata": {},
   "outputs": [
    {
     "name": "stdout",
     "output_type": "stream",
     "text": [
      "(196, 10) (18, 10)\n"
     ]
    }
   ],
   "source": [
    "print(train.shape,test.shape)"
   ]
  },
  {
   "cell_type": "code",
   "execution_count": 9,
   "metadata": {},
   "outputs": [
    {
     "name": "stdout",
     "output_type": "stream",
     "text": [
      "<class 'pandas.core.frame.DataFrame'>\n",
      "Int64Index: 196 entries, 1 to 211\n",
      "Data columns (total 10 columns):\n",
      " #   Column         Non-Null Count  Dtype  \n",
      "---  ------         --------------  -----  \n",
      " 0   RI             196 non-null    float64\n",
      " 1   Na             196 non-null    float64\n",
      " 2   Mg             196 non-null    float64\n",
      " 3   Al             196 non-null    float64\n",
      " 4   Si             196 non-null    float64\n",
      " 5   K              196 non-null    float64\n",
      " 6   Ca             196 non-null    float64\n",
      " 7   Ba             196 non-null    float64\n",
      " 8   Fe             196 non-null    float64\n",
      " 9   Type of glass  196 non-null    int64  \n",
      "dtypes: float64(9), int64(1)\n",
      "memory usage: 16.8 KB\n",
      "<class 'pandas.core.frame.DataFrame'>\n",
      "Int64Index: 18 entries, 68 to 214\n",
      "Data columns (total 10 columns):\n",
      " #   Column         Non-Null Count  Dtype  \n",
      "---  ------         --------------  -----  \n",
      " 0   RI             18 non-null     float64\n",
      " 1   Na             18 non-null     float64\n",
      " 2   Mg             18 non-null     float64\n",
      " 3   Al             18 non-null     float64\n",
      " 4   Si             18 non-null     float64\n",
      " 5   K              18 non-null     float64\n",
      " 6   Ca             18 non-null     float64\n",
      " 7   Ba             18 non-null     float64\n",
      " 8   Fe             18 non-null     float64\n",
      " 9   Type of glass  18 non-null     int64  \n",
      "dtypes: float64(9), int64(1)\n",
      "memory usage: 1.5 KB\n",
      "None None\n"
     ]
    }
   ],
   "source": [
    "print(train.info(), test.info())"
   ]
  },
  {
   "cell_type": "code",
   "execution_count": 11,
   "metadata": {},
   "outputs": [
    {
     "data": {
      "text/plain": [
       "RI               0\n",
       "Na               0\n",
       "Mg               0\n",
       "Al               0\n",
       "Si               0\n",
       "K                0\n",
       "Ca               0\n",
       "Ba               0\n",
       "Fe               0\n",
       "Type of glass    0\n",
       "dtype: int64"
      ]
     },
     "execution_count": 11,
     "metadata": {},
     "output_type": "execute_result"
    }
   ],
   "source": [
    "test.isnull().sum()"
   ]
  },
  {
   "cell_type": "code",
   "execution_count": 12,
   "metadata": {},
   "outputs": [],
   "source": [
    "x=train.drop(columns='Type of glass')"
   ]
  },
  {
   "cell_type": "code",
   "execution_count": 14,
   "metadata": {},
   "outputs": [
    {
     "data": {
      "image/png": "[encoded data removed]",
      "text/plain": [
       "<Figure size 432x288 with 1 Axes>"
      ]
     },
     "metadata": {
      "needs_background": "light"
     },
     "output_type": "display_data"
    },
    {
     "data": {
      "image/png": "[encoded data removed]",
      "text/plain": [
       "<Figure size 432x288 with 1 Axes>"
      ]
     },
     "metadata": {
      "needs_background": "light"
     },
     "output_type": "display_data"
    },
    {
     "data": {
      "image/png": "[encoded data removed]",
      "text/plain": [
       "<Figure size 432x288 with 1 Axes>"
      ]
     },
     "metadata": {
      "needs_background": "light"
     },
     "output_type": "display_data"
    },
    {
     "data": {
      "image/png": "[encoded data removed]",
      "text/plain": [
       "<Figure size 432x288 with 1 Axes>"
      ]
     },
     "metadata": {
      "needs_background": "light"
     },
     "output_type": "display_data"
    },
    {
     "data": {
      "image/png": "[encoded data removed]",
      "text/plain": [
       "<Figure size 432x288 with 1 Axes>"
      ]
     },
     "metadata": {
      "needs_background": "light"
     },
     "output_type": "display_data"
    },
    {
     "data": {
      "image/png": "[encoded data removed]",
      "text/plain": [
       "<Figure size 432x288 with 1 Axes>"
      ]
     },
     "metadata": {
      "needs_background": "light"
     },
     "output_type": "display_data"
    },
    {
     "data": {
      "image/png": "[encoded data removed]",
      "text/plain": [
       "<Figure size 432x288 with 1 Axes>"
      ]
     },
     "metadata": {
      "needs_background": "light"
     },
     "output_type": "display_data"
    },
    {
     "data": {
      "image/png": "[encoded data removed]",
      "text/plain": [
       "<Figure size 432x288 with 1 Axes>"
      ]
     },
     "metadata": {
      "needs_background": "light"
     },
     "output_type": "display_data"
    },
    {
     "data": {
      "image/png": "[encoded data removed]",
      "text/plain": [
       "<Figure size 432x288 with 1 Axes>"
      ]
     },
     "metadata": {
      "needs_background": "light"
     },
     "output_type": "display_data"
    }
   ],
   "source": [
    "for col in x:\n",
    "    skew = train[col].skew()\n",
    "    sns.distplot(train[col],kde=False,label='Skew = %.2f' %(skew),bins=100)\n",
    "    plt.legend(loc='best')\n",
    "    plt.show()"
   ]
  },
  {
   "cell_type": "code",
   "execution_count": 15,
   "metadata": {},
   "outputs": [
    {
     "data": {
      "text/plain": [
       "<matplotlib.axes._subplots.AxesSubplot at 0x1d4a1ab7f60>"
      ]
     },
     "execution_count": 15,
     "metadata": {},
     "output_type": "execute_result"
    },
    {
     "data": {
      "image/png": "[encoded data removed]",
      "text/plain": [
       "<Figure size 432x288 with 1 Axes>"
      ]
     },
     "metadata": {
      "needs_background": "light"
     },
     "output_type": "display_data"
    }
   ],
   "source": [
    "sns.countplot(train['Type of glass'])"
   ]
  },
  {
   "cell_type": "code",
   "execution_count": 17,
   "metadata": {},
   "outputs": [],
   "source": [
    "x_train = train.drop(columns=['Type of glass',],axis=1)\n",
    "\n",
    "x_test = test.drop(columns=['Type of glass'],axis=1)\n",
    "\n",
    "y_train = train['Type of glass']\n",
    "\n",
    "y_test = test['Type of glass']"
   ]
  },
  {
   "cell_type": "code",
   "execution_count": 18,
   "metadata": {},
   "outputs": [],
   "source": [
    "from sklearn.preprocessing import StandardScaler\n",
    "\n",
    "scaler = StandardScaler()\n",
    "\n",
    "x_train = scaler.fit_transform(x_train)\n",
    "x_test = scaler.transform(x_test)"
   ]
  },
  {
   "cell_type": "markdown",
   "metadata": {},
   "source": [
    "Eucledian matrix"
   ]
  },
  {
   "cell_type": "code",
   "execution_count": 24,
   "metadata": {},
   "outputs": [
    {
     "name": "stdout",
     "output_type": "stream",
     "text": [
      "Accuracy Score of Euclidean Metric : \t  55.55555555555556\n"
     ]
    }
   ],
   "source": [
    "classifier= KNeighborsClassifier(n_neighbors=5,metric='euclidean', p=2 )  \n",
    "classifier.fit(x_train, y_train)  \n",
    "KNeighborsClassifier(metric='euclidean')\n",
    "euclid_pred = classifier.predict(x_test)\n",
    "euclid_score = accuracy_score(y_test,euclid_pred)\n",
    "euclid_score = euclid_score*100\n",
    "print(\"Accuracy Score of Euclidean Metric : \\t \",euclid_score)"
   ]
  },
  {
   "cell_type": "code",
   "execution_count": 25,
   "metadata": {},
   "outputs": [
    {
     "data": {
      "text/plain": [
       "55.55555555555556"
      ]
     },
     "execution_count": 25,
     "metadata": {},
     "output_type": "execute_result"
    }
   ],
   "source": [
    "classifier.score(x_test,y_test)*100"
   ]
  },
  {
   "cell_type": "markdown",
   "metadata": {},
   "source": [
    "Manhatten matrix"
   ]
  },
  {
   "cell_type": "code",
   "execution_count": 26,
   "metadata": {},
   "outputs": [
    {
     "name": "stdout",
     "output_type": "stream",
     "text": [
      "Accuracy score of Manhattan metric : \t  55.55555555555556\n"
     ]
    }
   ],
   "source": [
    "classifier= KNeighborsClassifier(metric='manhattan')  \n",
    "classifier.fit(x_train, y_train)\n",
    "manhat_pred = classifier.predict(x_test)\n",
    "manhat_score= accuracy_score(y_test,manhat_pred)*100\n",
    "print(\"Accuracy score of Manhattan metric : \\t \",manhat_score)"
   ]
  },
  {
   "cell_type": "code",
   "execution_count": 27,
   "metadata": {},
   "outputs": [
    {
     "name": "stdout",
     "output_type": "stream",
     "text": [
      "              precision    recall  f1-score   support\n",
      "\n",
      "           1       0.43      1.00      0.60         3\n",
      "           2       0.40      0.67      0.50         3\n",
      "           3       0.00      0.00      0.00         3\n",
      "           5       1.00      0.33      0.50         3\n",
      "           6       1.00      0.33      0.50         3\n",
      "           7       0.75      1.00      0.86         3\n",
      "\n",
      "    accuracy                           0.56        18\n",
      "   macro avg       0.60      0.56      0.49        18\n",
      "weighted avg       0.60      0.56      0.49        18\n",
      "\n"
     ]
    },
    {
     "name": "stderr",
     "output_type": "stream",
     "text": [
      "D:\\Applications\\Anaconda\\lib\\site-packages\\sklearn\\metrics\\_classification.py:1272: UndefinedMetricWarning: Precision and F-score are ill-defined and being set to 0.0 in labels with no predicted samples. Use `zero_division` parameter to control this behavior.\n",
      "  _warn_prf(average, modifier, msg_start, len(result))\n"
     ]
    }
   ],
   "source": [
    "print(classification_report(y_test,manhat_pred))"
   ]
  },
  {
   "cell_type": "code",
   "execution_count": null,
   "metadata": {},
   "outputs": [],
   "source": []
  }
 ],
 "metadata": {
  "kernelspec": {
   "display_name": "Python 3",
   "language": "python",
   "name": "python3"
  },
  "language_info": {
   "codemirror_mode": {
    "name": "ipython",
    "version": 3
   },
   "file_extension": ".py",
   "mimetype": "text/x-python",
   "name": "python",
   "nbconvert_exporter": "python",
   "pygments_lexer": "ipython3",
   "version": "3.7.3"
  }
 },
 "nbformat": 4,
 "nbformat_minor": 4
}
